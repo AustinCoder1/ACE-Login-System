{
 "cells": [
  {
   "cell_type": "markdown",
   "metadata": {},
   "source": [
    "# Project Description\n",
    "\n",
    "ACE Login System - it is a login application that utilizes an Excel file to store login credientials. It also utilizing string encoding along with MD5 hashing to ensure the password is obsecure. For Excel reading/writing, it is utilizing the OpenPyXL Python library. \n",
    "\n",
    "The application utilizes the tkinter toolkit to build its GUI.\n",
    "\n",
    "Demo account: <br>\n",
    "Username: test <br>\n",
    "Password: test2\n",
    "\n",
    "# GitHub\n",
    "I have uploaded this project onto GitHub and made it public.\n",
    "\n",
    "GitHub Name: AustinCoder1 <br>\n",
    "GitHub Project Name: ACE-Login-System <br>\n",
    "GitHub Link: https://github.com/AustinCoder1/ACE-Login-System\n",
    "\n",
    "# Get Started\n",
    "Run the cell below to get started on using this application.\n",
    "\n",
    "# How-To\n",
    "Register Account: Fill in the username and password fields and click on register. <br>\n",
    "\n",
    "Login Account: Fill in the username and password fields and click on login. "
   ]
  },
  {
   "cell_type": "code",
   "execution_count": 4,
   "metadata": {},
   "outputs": [],
   "source": [
    "import tkinter as tk\n",
    "from tkinter import *\n",
    "import os\n",
    "from my_module.ExcelFunctions import *\n",
    "\n",
    "class Application(tk.Frame):\n",
    "    def __init__(self, master=None):\n",
    "        super().__init__(master)\n",
    "        self.master = master\n",
    "        self.master.title(\"|------ACE Login System------|\")        \n",
    "        self.widgetsLabel()\n",
    "        self.widgetsButton()\n",
    "        self.widgetsTextbox()\n",
    "        \n",
    "    def registerAccount(self):\n",
    "        x = excelFunctions()\n",
    "        x.registerFunction(self.txt_username.get(), self.txt_password.get())\n",
    "        \n",
    "    def loginAccount(self):\n",
    "        x = excelFunctions()\n",
    "        x.loginFunction(self.txt_username.get(), self.txt_password.get())\n",
    "        \n",
    "    def widgetsButton(self): ##-Class that creates the buttons-##\n",
    "        self.btn_login = tk.Button(root, text=\"Login\", command=self.loginAccount)\n",
    "        self.btn_login.grid(row=3, columnspan=3, sticky=E, padx=5, pady=5)\n",
    "        \n",
    "        self.btn_register = tk.Button(root, text=\"Register\", command=self.registerAccount)\n",
    "        self.btn_register.grid(row=3, columnspan=2, padx=5, pady=5)\n",
    "        \n",
    "    def widgetsTextbox(self): ##-Class that creates textboxs-##\n",
    "        self.txt_username = tk.Entry(root)\n",
    "        self.txt_username.grid(row=0, column=1)\n",
    "        \n",
    "        self.txt_password = tk.Entry(root, show=\"*\")\n",
    "        self.txt_password.grid(row=1, column=1)\n",
    "        \n",
    "    def widgetsLabel(self): ##-Class that creates labels-##\n",
    "        \n",
    "        self.lbl_username = tk.Label(root, text=\"Username:\")\n",
    "        self.lbl_username.grid(row=0, sticky=E)\n",
    "        \n",
    "        self.lbl_password = tk.Label(root, text=\"Password:\")\n",
    "        self.lbl_password.grid(row=1, sticky=E)\n",
    "    def createFrame(self):    \n",
    "        root = tk.Tk()\n",
    "        root.geometry(\"200x100+30+30\")\n",
    "        app = Application(master=root)\n",
    "        app.mainloop()\n",
    "\n",
    "root = tk.Tk()\n",
    "root.geometry(\"200x100+30+30\")\n",
    "app = Application(master=root)\n",
    "app.mainloop()"
   ]
  },
  {
   "cell_type": "code",
   "execution_count": 3,
   "metadata": {},
   "outputs": [
    {
     "name": "stdout",
     "output_type": "stream",
     "text": [
      "============================= test session starts =============================\n",
      "platform win32 -- Python 3.7.0, pytest-3.8.0, py-1.6.0, pluggy-0.7.1\n",
      "rootdir: C:\\Users\\AP-PC\\Desktop\\COGS 18\\Final Project, inifile:\n",
      "plugins: remotedata-0.3.0, openfiles-0.3.0, doctestplus-0.1.3, arraydiff-0.2\n",
      "collected 0 items\n",
      "\n",
      "============================== warnings summary ===============================\n",
      "C:\\Users\\AP-PC\\Anaconda3\\lib\\site-packages\\matplotlib\\rcsetup.py:20: DeprecationWarning: Using or importing the ABCs from 'collections' instead of from 'collections.abc' is deprecated, and in 3.8 it will stop working\n",
      "  from collections import Iterable, Mapping\n",
      "\n",
      "C:\\Users\\AP-PC\\Anaconda3\\lib\\site-packages\\matplotlib\\colors.py:53: DeprecationWarning: Using or importing the ABCs from 'collections' instead of from 'collections.abc' is deprecated, and in 3.8 it will stop working\n",
      "  from collections import Sized\n",
      "\n",
      "-- Docs: https://docs.pytest.org/en/latest/warnings.html\n",
      "========================= 2 warnings in 0.75 seconds ==========================\n"
     ]
    }
   ],
   "source": [
    "! pytest"
   ]
  },
  {
   "cell_type": "code",
   "execution_count": null,
   "metadata": {},
   "outputs": [],
   "source": []
  }
 ],
 "metadata": {
  "kernelspec": {
   "display_name": "Python 3",
   "language": "python",
   "name": "python3"
  },
  "language_info": {
   "codemirror_mode": {
    "name": "ipython",
    "version": 3
   },
   "file_extension": ".py",
   "mimetype": "text/x-python",
   "name": "python",
   "nbconvert_exporter": "python",
   "pygments_lexer": "ipython3",
   "version": "3.7.0"
  }
 },
 "nbformat": 4,
 "nbformat_minor": 2
}
